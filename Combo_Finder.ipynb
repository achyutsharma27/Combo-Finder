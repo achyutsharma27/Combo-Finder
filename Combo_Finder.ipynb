{
  "nbformat": 4,
  "nbformat_minor": 0,
  "metadata": {
    "colab": {
      "provenance": [],
      "include_colab_link": true
    },
    "kernelspec": {
      "name": "python3",
      "display_name": "Python 3"
    },
    "language_info": {
      "name": "python"
    }
  },
  "cells": [
    {
      "cell_type": "markdown",
      "metadata": {
        "id": "view-in-github",
        "colab_type": "text"
      },
      "source": [
        "<a href=\"https://colab.research.google.com/github/achyutsharma27/Combo-Finder/blob/main/Combo_Finder.ipynb\" target=\"_parent\"><img src=\"https://colab.research.google.com/assets/colab-badge.svg\" alt=\"Open In Colab\"/></a>"
      ]
    },
    {
      "cell_type": "code",
      "execution_count": null,
      "metadata": {
        "colab": {
          "base_uri": "https://localhost:8080/"
        },
        "id": "MP8wy2VAtA0j",
        "outputId": "84e8d403-8465-4d39-e09f-13922dca1597"
      },
      "outputs": [
        {
          "output_type": "stream",
          "name": "stdout",
          "text": [
            "['p9', 'p14', 'p13', 'p5', 'p8', 'p11']\n",
            "['p12', 'p9', 'p14', 'p1', 'p8', 'p11']\n",
            "['p14', 'p6', 'p12', 'p13', 'p10', 'p3']\n",
            "['p5', 'p1', 'p11', 'p12', 'p13', 'p14']\n",
            "['p12', 'p9', 'p5', 'p7', 'p6', 'p14']\n",
            "['p9', 'p14', 'p8', 'p11', 'p5', 'p12']\n",
            "['p12', 'p7', 'p9', 'p6', 'p3', 'p13']\n",
            "['p11', 'p3', 'p12', 'p4', 'p10', 'p9']\n",
            "['p10', 'p11', 'p1', 'p6', 'p14', 'p12']\n",
            "['p10', 'p13', 'p4', 'p2', 'p12', 'p11']\n",
            "['p11', 'p6', 'p9', 'p10', 'p5', 'p14']\n",
            "['p6', 'p13', 'p8', 'p12', 'p1', 'p10']\n",
            "['p9', 'p11', 'p13', 'p14', 'p12']\n",
            "['p3', 'p14', 'p9', 'p13', 'p11', 'p6']\n",
            "['p9', 'p3', 'p14', 'p12', 'p11', 'p8']\n",
            "['p2', 'p14', 'p10', 'p7', 'p11', 'p12']\n",
            "['p12', 'p8', 'p7', 'p14', 'p3', 'p10']\n",
            "['p9', 'p10', 'p7', 'p2', 'p14', 'p11']\n",
            "['p12', 'p13', 'p10', 'p1', 'p2', 'p11']\n",
            "['p1', 'p5', 'p12', 'p11', 'p13', 'p7']\n",
            "['p8', 'p2', 'p10', 'p12', 'p7', 'p13']\n",
            "['p10', 'p13', 'p12', 'p7', 'p8']\n",
            "['p9', 'p4', 'p11', 'p13', 'p3', 'p10']\n",
            "['p6', 'p11', 'p5', 'p14', 'p10', 'p9']\n",
            "['p13', 'p6', 'p9', 'p3', 'p11', 'p10']\n",
            "['p10', 'p4', 'p12', 'p9', 'p5', 'p14']\n",
            "['p13', 'p2', 'p11', 'p14', 'p5', 'p12']\n",
            "['p10', 'p13', 'p11', 'p5', 'p12']\n",
            "['p8', 'p9', 'p11', 'p12', 'p10']\n",
            "['p5', 'p7', 'p10', 'p8', 'p14', 'p12']\n",
            "['p5', 'p12', 'p3', 'p10', 'p9', 'p7']\n",
            "['p11', 'p8', 'p13', 'p14', 'p7', 'p4']\n",
            "['p11', 'p13', 'p14', 'p3', 'p7', 'p8']\n",
            "['p2', 'p10', 'p9', 'p6', 'p12', 'p11']\n",
            "['p11', 'p10', 'p5', 'p4', 'p6', 'p12']\n",
            "['p5', 'p6', 'p10', 'p9', 'p14', 'p13']\n",
            "['p5', 'p9', 'p11', 'p14', 'p10', 'p7']\n",
            "['p13', 'p6', 'p8', 'p14', 'p9', 'p11']\n",
            "['p11', 'p12', 'p9', 'p1', 'p13', 'p5']\n",
            "['p4', 'p9', 'p7', 'p13', 'p3', 'p12']\n",
            "['p8', 'p12', 'p14', 'p7', 'p2', 'p13']\n",
            "\n",
            "Total Sets: 41\n"
          ]
        },
        {
          "output_type": "stream",
          "name": "stderr",
          "text": [
            "<ipython-input-2-fbfff08d886c>:14: DeprecationWarning: Sampling from a set deprecated\n",
            "since Python 3.9 and will be removed in a subsequent version.\n",
            "  combo_list = random.sample(ProductList.keys(), combo_size)\n"
          ]
        }
      ],
      "source": [
        "import random\n",
        "\n",
        "ProductList = {'p1': 10, 'p2': 15, 'p3': 20, 'p4': 25, 'p5': 30, 'p6': 35, 'p7': 50,\n",
        "               'p8': 40, 'p9': 55, 'p10': 60, 'p11': 65, 'p12': 75, 'p13': 70, 'p14': 45}\n",
        "LB = 290\n",
        "UB = 310\n",
        "\n",
        "ResultList = []\n",
        "\n",
        "Iterations = 1000\n",
        "\n",
        "for _ in range(Iterations):\n",
        "    combo_size = random.randint(3, 6)\n",
        "    combo_list = random.sample(ProductList.keys(), combo_size)\n",
        "    combo_sum = sum(ProductList[i] for i in combo_list)\n",
        "    if LB <= combo_sum <= UB:\n",
        "        ResultList.append(combo_list)\n",
        "\n",
        "for result in ResultList:\n",
        "    print(result)\n",
        "\n",
        "print(\"\\nTotal Sets:\", len(ResultList))"
      ]
    }
  ]
}